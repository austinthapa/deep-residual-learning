{
 "cells": [
  {
   "cell_type": "code",
   "execution_count": 39,
   "id": "fd0316f2-4801-4223-a755-0099c877fbfb",
   "metadata": {},
   "outputs": [],
   "source": [
    "import tensorflow as tf\n",
    "\n",
    "from tensorflow.keras import layers, models"
   ]
  },
  {
   "cell_type": "code",
   "execution_count": 4,
   "id": "252c3377-fb8f-4b97-942e-eaefba474075",
   "metadata": {},
   "outputs": [
    {
     "data": {
      "text/plain": [
       "'2.16.2'"
      ]
     },
     "execution_count": 4,
     "metadata": {},
     "output_type": "execute_result"
    }
   ],
   "source": [
    "tf.__version__"
   ]
  },
  {
   "cell_type": "code",
   "execution_count": 5,
   "id": "e0a7897f-46bc-46ba-96aa-5e2de8c52914",
   "metadata": {},
   "outputs": [],
   "source": [
    "model = tf.keras.Sequential()"
   ]
  },
  {
   "cell_type": "code",
   "execution_count": 13,
   "id": "95759975-c4b3-4fe4-a1c9-f738c421795e",
   "metadata": {},
   "outputs": [],
   "source": [
    "def BasicBlock(x, filters, stride = 1):\n",
    "    shortcut = x\n",
    "    x = layers.Conv2D(filters, kernel_size = 3, strides = stride, padding = \"same\", kernel_initializer = \"he_normal\")(x)\n",
    "    x = layers.BatchNormalization()(x)\n",
    "    x = layers.ReLU()(x)\n",
    "    x = layers.Conv2D(filters, kernel_size = 3, strides = 1, padding = \"same\", kernel_initializer = \"he_normal\")(x)\n",
    "    x = layers.BatchNormalization()(x)\n",
    "\n",
    "    if stride != 1 or shortcut.shape[-1] != filters:\n",
    "        shortcut = layers.Conv2D(filters, 1, strides = stride, kernel_initializer = \"he_normal\")(shortcut)\n",
    "        shortcut = layers.BatchNormalization()(shortcut)\n",
    "    x = layers.Add()([x + shortcut])\n",
    "    x = layers.BatchNormalization()(x)\n",
    "    return x"
   ]
  },
  {
   "cell_type": "code",
   "execution_count": 37,
   "id": "3cb5b969-b114-4e4c-b799-39ea51279e2d",
   "metadata": {},
   "outputs": [],
   "source": [
    "def make_layers(x, filters, blocks, stride = 1):\n",
    "    x = BasicBlock(x, filters, stride = stride)\n",
    "    for _ in range(1, blocks):\n",
    "        x = BasicBlock(x, filters, stride = 1)\n",
    "    return x"
   ]
  },
  {
   "cell_type": "code",
   "execution_count": 42,
   "id": "b161eedf-e2c1-4ce6-861c-1d2d23859a5b",
   "metadata": {},
   "outputs": [],
   "source": [
    "def ResNet18(input_shape = (32, 32, 3), num_classes = 10):\n",
    "    inputs = layers.Input(shape = input_shape)\n",
    "\n",
    "    x = layers.Conv2D(64, 3, strides = 1, padding = \"same\", kernel_initializer = \"he_normal\")(inputs)\n",
    "    x = layers.BatchNormalization()(x)\n",
    "    x = layers.ReLU()(x)\n",
    "\n",
    "    x = make_layers(x, filters = 64, blocks = 2, stride = 1)\n",
    "    x = make_layers(x, filters = 128, blocks = 2, stride = 2)\n",
    "    x = make_layers(x, filters = 256, blocks = 2, stride = 2)\n",
    "    x = make_layers(x, filters = 512, blocks = 2, stride = 2)\n",
    "\n",
    "    x = layers.GlobalAveragePooling2D()(x)\n",
    "    outputs = layers.Dense(num_classes, activation = \"softmax\")(x)\n",
    "    model = models.Model(inputs, outputs)\n",
    "    return model"
   ]
  },
  {
   "cell_type": "code",
   "execution_count": 43,
   "id": "5704275e-5891-4d19-b853-ec0ed2ad6660",
   "metadata": {},
   "outputs": [],
   "source": [
    "model = ResNet18()"
   ]
  },
  {
   "cell_type": "code",
   "execution_count": 45,
   "id": "80314e32-8a88-46e1-afde-0235a93deb6a",
   "metadata": {},
   "outputs": [],
   "source": [
    "model.compile(\n",
    "    optimizer = \"adam\",\n",
    "    loss = \"categorical_crossentropy\",\n",
    "    metrics = [\"accuracy\"]\n",
    ")"
   ]
  },
  {
   "cell_type": "code",
   "execution_count": null,
   "id": "dd32e5d5-c111-49ca-9fc3-921f29db30c2",
   "metadata": {},
   "outputs": [],
   "source": []
  }
 ],
 "metadata": {
  "kernelspec": {
   "display_name": "Python 3 (ipykernel)",
   "language": "python",
   "name": "python3"
  },
  "language_info": {
   "codemirror_mode": {
    "name": "ipython",
    "version": 3
   },
   "file_extension": ".py",
   "mimetype": "text/x-python",
   "name": "python",
   "nbconvert_exporter": "python",
   "pygments_lexer": "ipython3",
   "version": "3.9.6"
  }
 },
 "nbformat": 4,
 "nbformat_minor": 5
}
